{
 "cells": [
  {
   "cell_type": "code",
   "execution_count": null,
   "metadata": {},
   "outputs": [],
   "source": [
    "library(dplyr)\n",
    "\n",
    "products <- read.csv(\"products.csv\", stringsAsFactors = FALSE) \n",
    "colnames(products)\n",
    "\n",
    "rated_products = products %>% filter(., Number_of_reviews > 0)\n",
    "\n",
    "\n",
    "rated_products %>% filter(., average_rating >= 4) %>% arrange(., desc(Number_of_reviews))\n",
    "\n",
    "\n",
    "products %>% group_by(., best_use) %>% summarise(., total = n())"
   ]
  }
 ],
 "metadata": {
  "kernelspec": {
   "display_name": "Python 3",
   "language": "python",
   "name": "python3"
  },
  "language_info": {
   "codemirror_mode": {
    "name": "ipython",
    "version": 3
   },
   "file_extension": ".py",
   "mimetype": "text/x-python",
   "name": "python",
   "nbconvert_exporter": "python",
   "pygments_lexer": "ipython3",
   "version": "3.7.3"
  }
 },
 "nbformat": 4,
 "nbformat_minor": 2
}
