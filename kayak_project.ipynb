{
 "cells": [
  {
   "cell_type": "code",
   "execution_count": 120,
   "metadata": {},
   "outputs": [
    {
     "data": {
      "text/plain": [
       "'C:\\\\Users\\\\bdbot\\\\Documents'"
      ]
     },
     "execution_count": 120,
     "metadata": {},
     "output_type": "execute_result"
    }
   ],
   "source": [
    "\"_2lEboPUK7PM_Cr8Y\""
   ]
  },
  {
   "cell_type": "code",
   "execution_count": 2,
   "metadata": {},
   "outputs": [],
   "source": [
    "from selenium import webdriver\n",
    "from selenium.webdriver.common.by import By\n",
    "from selenium.webdriver.support.ui import WebDriverWait\n",
    "from selenium.webdriver.support import expected_conditions as EC\n",
    "import csv\n",
    "import re\n",
    "import time"
   ]
  },
  {
   "cell_type": "code",
   "execution_count": 21,
   "metadata": {},
   "outputs": [],
   "source": [
    "driver = webdriver.Chrome()\n",
    "driver.get(\"https://www.rei.com/search?q=kayak\")\n",
    "\n",
    "all_results_button = driver.find_element_by_xpath('//*[@id=\"app-main\"]/div/div/div[1]/div/div[2]/div[2]/div[2]/div/ul/li[last()]')\n",
    "all_results_button.click()"
   ]
  },
  {
   "cell_type": "code",
   "execution_count": 22,
   "metadata": {},
   "outputs": [],
   "source": [
    "wait_products = WebDriverWait(driver, 10)\n",
    "products = wait_products.until(EC.presence_of_all_elements_located((By.XPATH, '//*[@id=\"search-results\"]/ul/li')))"
   ]
  },
  {
   "cell_type": "code",
   "execution_count": 23,
   "metadata": {},
   "outputs": [
    {
     "name": "stdout",
     "output_type": "stream",
     "text": [
      "finished\n"
     ]
    },
    {
     "ename": "StaleElementReferenceException",
     "evalue": "Message: stale element reference: element is not attached to the page document\n  (Session info: chrome=78.0.3904.97)\n",
     "output_type": "error",
     "traceback": [
      "\u001b[1;31m---------------------------------------------------------------------------\u001b[0m",
      "\u001b[1;31mStaleElementReferenceException\u001b[0m            Traceback (most recent call last)",
      "\u001b[1;32m<ipython-input-23-0b395a8b0689>\u001b[0m in \u001b[0;36m<module>\u001b[1;34m\u001b[0m\n\u001b[0;32m      1\u001b[0m \u001b[1;32mfor\u001b[0m \u001b[0mproduct\u001b[0m \u001b[1;32min\u001b[0m \u001b[0mproducts\u001b[0m\u001b[1;33m:\u001b[0m\u001b[1;33m\u001b[0m\u001b[1;33m\u001b[0m\u001b[0m\n\u001b[1;32m----> 2\u001b[1;33m     \u001b[0mproduct_button\u001b[0m \u001b[1;33m=\u001b[0m \u001b[0mproduct\u001b[0m\u001b[1;33m.\u001b[0m\u001b[0mfind_element_by_xpath\u001b[0m\u001b[1;33m(\u001b[0m\u001b[1;34m'.//div[@class=\"_2lEboPUK7PM_Cr8Y\"]'\u001b[0m\u001b[1;33m)\u001b[0m\u001b[1;33m\u001b[0m\u001b[1;33m\u001b[0m\u001b[0m\n\u001b[0m\u001b[0;32m      3\u001b[0m     \u001b[0mproduct_button\u001b[0m\u001b[1;33m.\u001b[0m\u001b[0mclick\u001b[0m\u001b[1;33m(\u001b[0m\u001b[1;33m)\u001b[0m\u001b[1;33m\u001b[0m\u001b[1;33m\u001b[0m\u001b[0m\n\u001b[0;32m      4\u001b[0m     \u001b[0mprint\u001b[0m\u001b[1;33m(\u001b[0m\u001b[1;34m'finished'\u001b[0m\u001b[1;33m)\u001b[0m\u001b[1;33m\u001b[0m\u001b[1;33m\u001b[0m\u001b[0m\n\u001b[0;32m      5\u001b[0m     \u001b[0mdriver\u001b[0m\u001b[1;33m.\u001b[0m\u001b[0mback\u001b[0m\u001b[1;33m(\u001b[0m\u001b[1;33m)\u001b[0m\u001b[1;33m\u001b[0m\u001b[1;33m\u001b[0m\u001b[0m\n",
      "\u001b[1;32mD:\\Anaconda\\lib\\site-packages\\selenium\\webdriver\\remote\\webelement.py\u001b[0m in \u001b[0;36mfind_element_by_xpath\u001b[1;34m(self, xpath)\u001b[0m\n\u001b[0;32m    349\u001b[0m             \u001b[0melement\u001b[0m \u001b[1;33m=\u001b[0m \u001b[0melement\u001b[0m\u001b[1;33m.\u001b[0m\u001b[0mfind_element_by_xpath\u001b[0m\u001b[1;33m(\u001b[0m\u001b[1;34m'//div/td[1]'\u001b[0m\u001b[1;33m)\u001b[0m\u001b[1;33m\u001b[0m\u001b[1;33m\u001b[0m\u001b[0m\n\u001b[0;32m    350\u001b[0m         \"\"\"\n\u001b[1;32m--> 351\u001b[1;33m         \u001b[1;32mreturn\u001b[0m \u001b[0mself\u001b[0m\u001b[1;33m.\u001b[0m\u001b[0mfind_element\u001b[0m\u001b[1;33m(\u001b[0m\u001b[0mby\u001b[0m\u001b[1;33m=\u001b[0m\u001b[0mBy\u001b[0m\u001b[1;33m.\u001b[0m\u001b[0mXPATH\u001b[0m\u001b[1;33m,\u001b[0m \u001b[0mvalue\u001b[0m\u001b[1;33m=\u001b[0m\u001b[0mxpath\u001b[0m\u001b[1;33m)\u001b[0m\u001b[1;33m\u001b[0m\u001b[1;33m\u001b[0m\u001b[0m\n\u001b[0m\u001b[0;32m    352\u001b[0m \u001b[1;33m\u001b[0m\u001b[0m\n\u001b[0;32m    353\u001b[0m     \u001b[1;32mdef\u001b[0m \u001b[0mfind_elements_by_xpath\u001b[0m\u001b[1;33m(\u001b[0m\u001b[0mself\u001b[0m\u001b[1;33m,\u001b[0m \u001b[0mxpath\u001b[0m\u001b[1;33m)\u001b[0m\u001b[1;33m:\u001b[0m\u001b[1;33m\u001b[0m\u001b[1;33m\u001b[0m\u001b[0m\n",
      "\u001b[1;32mD:\\Anaconda\\lib\\site-packages\\selenium\\webdriver\\remote\\webelement.py\u001b[0m in \u001b[0;36mfind_element\u001b[1;34m(self, by, value)\u001b[0m\n\u001b[0;32m    657\u001b[0m \u001b[1;33m\u001b[0m\u001b[0m\n\u001b[0;32m    658\u001b[0m         return self._execute(Command.FIND_CHILD_ELEMENT,\n\u001b[1;32m--> 659\u001b[1;33m                              {\"using\": by, \"value\": value})['value']\n\u001b[0m\u001b[0;32m    660\u001b[0m \u001b[1;33m\u001b[0m\u001b[0m\n\u001b[0;32m    661\u001b[0m     \u001b[1;32mdef\u001b[0m \u001b[0mfind_elements\u001b[0m\u001b[1;33m(\u001b[0m\u001b[0mself\u001b[0m\u001b[1;33m,\u001b[0m \u001b[0mby\u001b[0m\u001b[1;33m=\u001b[0m\u001b[0mBy\u001b[0m\u001b[1;33m.\u001b[0m\u001b[0mID\u001b[0m\u001b[1;33m,\u001b[0m \u001b[0mvalue\u001b[0m\u001b[1;33m=\u001b[0m\u001b[1;32mNone\u001b[0m\u001b[1;33m)\u001b[0m\u001b[1;33m:\u001b[0m\u001b[1;33m\u001b[0m\u001b[1;33m\u001b[0m\u001b[0m\n",
      "\u001b[1;32mD:\\Anaconda\\lib\\site-packages\\selenium\\webdriver\\remote\\webelement.py\u001b[0m in \u001b[0;36m_execute\u001b[1;34m(self, command, params)\u001b[0m\n\u001b[0;32m    631\u001b[0m             \u001b[0mparams\u001b[0m \u001b[1;33m=\u001b[0m \u001b[1;33m{\u001b[0m\u001b[1;33m}\u001b[0m\u001b[1;33m\u001b[0m\u001b[1;33m\u001b[0m\u001b[0m\n\u001b[0;32m    632\u001b[0m         \u001b[0mparams\u001b[0m\u001b[1;33m[\u001b[0m\u001b[1;34m'id'\u001b[0m\u001b[1;33m]\u001b[0m \u001b[1;33m=\u001b[0m \u001b[0mself\u001b[0m\u001b[1;33m.\u001b[0m\u001b[0m_id\u001b[0m\u001b[1;33m\u001b[0m\u001b[1;33m\u001b[0m\u001b[0m\n\u001b[1;32m--> 633\u001b[1;33m         \u001b[1;32mreturn\u001b[0m \u001b[0mself\u001b[0m\u001b[1;33m.\u001b[0m\u001b[0m_parent\u001b[0m\u001b[1;33m.\u001b[0m\u001b[0mexecute\u001b[0m\u001b[1;33m(\u001b[0m\u001b[0mcommand\u001b[0m\u001b[1;33m,\u001b[0m \u001b[0mparams\u001b[0m\u001b[1;33m)\u001b[0m\u001b[1;33m\u001b[0m\u001b[1;33m\u001b[0m\u001b[0m\n\u001b[0m\u001b[0;32m    634\u001b[0m \u001b[1;33m\u001b[0m\u001b[0m\n\u001b[0;32m    635\u001b[0m     \u001b[1;32mdef\u001b[0m \u001b[0mfind_element\u001b[0m\u001b[1;33m(\u001b[0m\u001b[0mself\u001b[0m\u001b[1;33m,\u001b[0m \u001b[0mby\u001b[0m\u001b[1;33m=\u001b[0m\u001b[0mBy\u001b[0m\u001b[1;33m.\u001b[0m\u001b[0mID\u001b[0m\u001b[1;33m,\u001b[0m \u001b[0mvalue\u001b[0m\u001b[1;33m=\u001b[0m\u001b[1;32mNone\u001b[0m\u001b[1;33m)\u001b[0m\u001b[1;33m:\u001b[0m\u001b[1;33m\u001b[0m\u001b[1;33m\u001b[0m\u001b[0m\n",
      "\u001b[1;32mD:\\Anaconda\\lib\\site-packages\\selenium\\webdriver\\remote\\webdriver.py\u001b[0m in \u001b[0;36mexecute\u001b[1;34m(self, driver_command, params)\u001b[0m\n\u001b[0;32m    319\u001b[0m         \u001b[0mresponse\u001b[0m \u001b[1;33m=\u001b[0m \u001b[0mself\u001b[0m\u001b[1;33m.\u001b[0m\u001b[0mcommand_executor\u001b[0m\u001b[1;33m.\u001b[0m\u001b[0mexecute\u001b[0m\u001b[1;33m(\u001b[0m\u001b[0mdriver_command\u001b[0m\u001b[1;33m,\u001b[0m \u001b[0mparams\u001b[0m\u001b[1;33m)\u001b[0m\u001b[1;33m\u001b[0m\u001b[1;33m\u001b[0m\u001b[0m\n\u001b[0;32m    320\u001b[0m         \u001b[1;32mif\u001b[0m \u001b[0mresponse\u001b[0m\u001b[1;33m:\u001b[0m\u001b[1;33m\u001b[0m\u001b[1;33m\u001b[0m\u001b[0m\n\u001b[1;32m--> 321\u001b[1;33m             \u001b[0mself\u001b[0m\u001b[1;33m.\u001b[0m\u001b[0merror_handler\u001b[0m\u001b[1;33m.\u001b[0m\u001b[0mcheck_response\u001b[0m\u001b[1;33m(\u001b[0m\u001b[0mresponse\u001b[0m\u001b[1;33m)\u001b[0m\u001b[1;33m\u001b[0m\u001b[1;33m\u001b[0m\u001b[0m\n\u001b[0m\u001b[0;32m    322\u001b[0m             response['value'] = self._unwrap_value(\n\u001b[0;32m    323\u001b[0m                 response.get('value', None))\n",
      "\u001b[1;32mD:\\Anaconda\\lib\\site-packages\\selenium\\webdriver\\remote\\errorhandler.py\u001b[0m in \u001b[0;36mcheck_response\u001b[1;34m(self, response)\u001b[0m\n\u001b[0;32m    240\u001b[0m                 \u001b[0malert_text\u001b[0m \u001b[1;33m=\u001b[0m \u001b[0mvalue\u001b[0m\u001b[1;33m[\u001b[0m\u001b[1;34m'alert'\u001b[0m\u001b[1;33m]\u001b[0m\u001b[1;33m.\u001b[0m\u001b[0mget\u001b[0m\u001b[1;33m(\u001b[0m\u001b[1;34m'text'\u001b[0m\u001b[1;33m)\u001b[0m\u001b[1;33m\u001b[0m\u001b[1;33m\u001b[0m\u001b[0m\n\u001b[0;32m    241\u001b[0m             \u001b[1;32mraise\u001b[0m \u001b[0mexception_class\u001b[0m\u001b[1;33m(\u001b[0m\u001b[0mmessage\u001b[0m\u001b[1;33m,\u001b[0m \u001b[0mscreen\u001b[0m\u001b[1;33m,\u001b[0m \u001b[0mstacktrace\u001b[0m\u001b[1;33m,\u001b[0m \u001b[0malert_text\u001b[0m\u001b[1;33m)\u001b[0m\u001b[1;33m\u001b[0m\u001b[1;33m\u001b[0m\u001b[0m\n\u001b[1;32m--> 242\u001b[1;33m         \u001b[1;32mraise\u001b[0m \u001b[0mexception_class\u001b[0m\u001b[1;33m(\u001b[0m\u001b[0mmessage\u001b[0m\u001b[1;33m,\u001b[0m \u001b[0mscreen\u001b[0m\u001b[1;33m,\u001b[0m \u001b[0mstacktrace\u001b[0m\u001b[1;33m)\u001b[0m\u001b[1;33m\u001b[0m\u001b[1;33m\u001b[0m\u001b[0m\n\u001b[0m\u001b[0;32m    243\u001b[0m \u001b[1;33m\u001b[0m\u001b[0m\n\u001b[0;32m    244\u001b[0m     \u001b[1;32mdef\u001b[0m \u001b[0m_value_or_default\u001b[0m\u001b[1;33m(\u001b[0m\u001b[0mself\u001b[0m\u001b[1;33m,\u001b[0m \u001b[0mobj\u001b[0m\u001b[1;33m,\u001b[0m \u001b[0mkey\u001b[0m\u001b[1;33m,\u001b[0m \u001b[0mdefault\u001b[0m\u001b[1;33m)\u001b[0m\u001b[1;33m:\u001b[0m\u001b[1;33m\u001b[0m\u001b[1;33m\u001b[0m\u001b[0m\n",
      "\u001b[1;31mStaleElementReferenceException\u001b[0m: Message: stale element reference: element is not attached to the page document\n  (Session info: chrome=78.0.3904.97)\n"
     ]
    }
   ],
   "source": [
    "for product in products:\n",
    "    product_button = product.find_element_by_xpath('.//div[@class=\"_2lEboPUK7PM_Cr8Y\"]')\n",
    "    product_button.click()\n",
    "    print('finished')\n",
    "    driver.back()"
   ]
  },
  {
   "cell_type": "code",
   "execution_count": 24,
   "metadata": {},
   "outputs": [
    {
     "data": {
      "text/plain": [
       "[<selenium.webdriver.remote.webelement.WebElement (session=\"c2cd87542d8e23ea83e06b3c72398c40\", element=\"b60e52de-22b6-4e07-bef9-6f762a8b8d91\")>,\n",
       " <selenium.webdriver.remote.webelement.WebElement (session=\"c2cd87542d8e23ea83e06b3c72398c40\", element=\"ce8e827b-e6cc-400c-af61-5db1b61cdaf6\")>,\n",
       " <selenium.webdriver.remote.webelement.WebElement (session=\"c2cd87542d8e23ea83e06b3c72398c40\", element=\"01a8974d-e391-47d8-97a1-94fb3687f480\")>,\n",
       " <selenium.webdriver.remote.webelement.WebElement (session=\"c2cd87542d8e23ea83e06b3c72398c40\", element=\"d2d521a0-7574-467b-8a71-0f9d8a54c9fe\")>,\n",
       " <selenium.webdriver.remote.webelement.WebElement (session=\"c2cd87542d8e23ea83e06b3c72398c40\", element=\"056d8915-55e3-4bca-bc7d-63394c2c3870\")>,\n",
       " <selenium.webdriver.remote.webelement.WebElement (session=\"c2cd87542d8e23ea83e06b3c72398c40\", element=\"575f43f6-55c7-4036-8cd0-8c03ad03d4a7\")>,\n",
       " <selenium.webdriver.remote.webelement.WebElement (session=\"c2cd87542d8e23ea83e06b3c72398c40\", element=\"d34afbeb-587d-49d8-8820-d31c0e25006b\")>,\n",
       " <selenium.webdriver.remote.webelement.WebElement (session=\"c2cd87542d8e23ea83e06b3c72398c40\", element=\"dd1c25a8-4765-474c-85b7-03c39658d317\")>,\n",
       " <selenium.webdriver.remote.webelement.WebElement (session=\"c2cd87542d8e23ea83e06b3c72398c40\", element=\"363870f2-d936-48ce-b61f-e8d4235db7b3\")>,\n",
       " <selenium.webdriver.remote.webelement.WebElement (session=\"c2cd87542d8e23ea83e06b3c72398c40\", element=\"254fb38c-096f-46d1-8446-9fc51795862c\")>,\n",
       " <selenium.webdriver.remote.webelement.WebElement (session=\"c2cd87542d8e23ea83e06b3c72398c40\", element=\"df40a113-7f3a-445e-914d-e7bce766ccb4\")>,\n",
       " <selenium.webdriver.remote.webelement.WebElement (session=\"c2cd87542d8e23ea83e06b3c72398c40\", element=\"96793676-b5ac-47c3-86f4-8c8c0032a7f8\")>,\n",
       " <selenium.webdriver.remote.webelement.WebElement (session=\"c2cd87542d8e23ea83e06b3c72398c40\", element=\"1796e337-9508-4533-8398-f28ff346139e\")>,\n",
       " <selenium.webdriver.remote.webelement.WebElement (session=\"c2cd87542d8e23ea83e06b3c72398c40\", element=\"d7a12805-f296-4119-af30-743cf1ceccfb\")>,\n",
       " <selenium.webdriver.remote.webelement.WebElement (session=\"c2cd87542d8e23ea83e06b3c72398c40\", element=\"9b2ddb12-dfce-4124-b330-fb61b2cfe07c\")>,\n",
       " <selenium.webdriver.remote.webelement.WebElement (session=\"c2cd87542d8e23ea83e06b3c72398c40\", element=\"2ea7b331-a48f-420e-8883-7da97d99aa09\")>,\n",
       " <selenium.webdriver.remote.webelement.WebElement (session=\"c2cd87542d8e23ea83e06b3c72398c40\", element=\"c418a6ce-9cc2-4276-a23d-25aa49ad6441\")>,\n",
       " <selenium.webdriver.remote.webelement.WebElement (session=\"c2cd87542d8e23ea83e06b3c72398c40\", element=\"3b55faeb-5823-433e-8759-dcda9669f8f1\")>,\n",
       " <selenium.webdriver.remote.webelement.WebElement (session=\"c2cd87542d8e23ea83e06b3c72398c40\", element=\"03e862be-c520-4c5e-944b-567320977356\")>,\n",
       " <selenium.webdriver.remote.webelement.WebElement (session=\"c2cd87542d8e23ea83e06b3c72398c40\", element=\"9a753dd9-98e3-4dec-981a-4aac80660f60\")>,\n",
       " <selenium.webdriver.remote.webelement.WebElement (session=\"c2cd87542d8e23ea83e06b3c72398c40\", element=\"40e5c34f-832f-4abc-8ff1-07aa90bd1cbf\")>,\n",
       " <selenium.webdriver.remote.webelement.WebElement (session=\"c2cd87542d8e23ea83e06b3c72398c40\", element=\"ca01d5f6-cbd0-4f03-bb89-5e08991a742e\")>,\n",
       " <selenium.webdriver.remote.webelement.WebElement (session=\"c2cd87542d8e23ea83e06b3c72398c40\", element=\"81121037-f4b3-4292-974e-69b74eec6ad4\")>,\n",
       " <selenium.webdriver.remote.webelement.WebElement (session=\"c2cd87542d8e23ea83e06b3c72398c40\", element=\"ee6e03aa-7e8f-4573-9ce1-ed68a4c4a149\")>,\n",
       " <selenium.webdriver.remote.webelement.WebElement (session=\"c2cd87542d8e23ea83e06b3c72398c40\", element=\"a6e0bd9c-c499-4263-8579-f09ece6fa322\")>,\n",
       " <selenium.webdriver.remote.webelement.WebElement (session=\"c2cd87542d8e23ea83e06b3c72398c40\", element=\"bdfd2e2e-ed7d-4690-9929-e610efc0a993\")>,\n",
       " <selenium.webdriver.remote.webelement.WebElement (session=\"c2cd87542d8e23ea83e06b3c72398c40\", element=\"b015511b-d756-4a8a-8b58-66e0efab3a39\")>,\n",
       " <selenium.webdriver.remote.webelement.WebElement (session=\"c2cd87542d8e23ea83e06b3c72398c40\", element=\"b68089bb-3ae0-446d-8604-fe13a300f9ad\")>,\n",
       " <selenium.webdriver.remote.webelement.WebElement (session=\"c2cd87542d8e23ea83e06b3c72398c40\", element=\"2871fd3b-642b-4735-90cc-4e0c9aa4f85d\")>,\n",
       " <selenium.webdriver.remote.webelement.WebElement (session=\"c2cd87542d8e23ea83e06b3c72398c40\", element=\"8d31dd39-bbc6-4df9-88f6-ed0bc4a007a9\")>,\n",
       " <selenium.webdriver.remote.webelement.WebElement (session=\"c2cd87542d8e23ea83e06b3c72398c40\", element=\"90431646-38e2-429e-8f08-e4f4b276048e\")>,\n",
       " <selenium.webdriver.remote.webelement.WebElement (session=\"c2cd87542d8e23ea83e06b3c72398c40\", element=\"e2d3f52c-d814-4e49-a1cc-8f52ccfde6bd\")>,\n",
       " <selenium.webdriver.remote.webelement.WebElement (session=\"c2cd87542d8e23ea83e06b3c72398c40\", element=\"6f05c2f6-aaf1-4cc6-98ed-6a147ead953d\")>,\n",
       " <selenium.webdriver.remote.webelement.WebElement (session=\"c2cd87542d8e23ea83e06b3c72398c40\", element=\"2dcfab7e-8993-4a1d-9c23-50e216e7bb38\")>,\n",
       " <selenium.webdriver.remote.webelement.WebElement (session=\"c2cd87542d8e23ea83e06b3c72398c40\", element=\"20c07573-66da-4511-b4b1-c32a99e5c07d\")>,\n",
       " <selenium.webdriver.remote.webelement.WebElement (session=\"c2cd87542d8e23ea83e06b3c72398c40\", element=\"3dc88c48-781b-41f1-8fb0-443950bcf7b4\")>,\n",
       " <selenium.webdriver.remote.webelement.WebElement (session=\"c2cd87542d8e23ea83e06b3c72398c40\", element=\"26486ad5-f856-4bec-88e3-ce1c0e8fa38f\")>,\n",
       " <selenium.webdriver.remote.webelement.WebElement (session=\"c2cd87542d8e23ea83e06b3c72398c40\", element=\"ea42e73f-dd85-4f34-9a13-3aee21c15c09\")>,\n",
       " <selenium.webdriver.remote.webelement.WebElement (session=\"c2cd87542d8e23ea83e06b3c72398c40\", element=\"35ffe848-281f-4cc1-a771-b3f2851b980a\")>,\n",
       " <selenium.webdriver.remote.webelement.WebElement (session=\"c2cd87542d8e23ea83e06b3c72398c40\", element=\"70f3b7bf-4cdb-4af5-b608-acd9dbf9160a\")>,\n",
       " <selenium.webdriver.remote.webelement.WebElement (session=\"c2cd87542d8e23ea83e06b3c72398c40\", element=\"c47e6375-1f04-447e-b14b-b2552ee28ad3\")>,\n",
       " <selenium.webdriver.remote.webelement.WebElement (session=\"c2cd87542d8e23ea83e06b3c72398c40\", element=\"09b60c9c-2c00-47c8-bb07-a13f5e03a7fa\")>,\n",
       " <selenium.webdriver.remote.webelement.WebElement (session=\"c2cd87542d8e23ea83e06b3c72398c40\", element=\"2951d556-0fae-4a9e-b1d7-842556508a54\")>,\n",
       " <selenium.webdriver.remote.webelement.WebElement (session=\"c2cd87542d8e23ea83e06b3c72398c40\", element=\"bf196b87-ea74-49d4-85d1-86cea9d095b1\")>,\n",
       " <selenium.webdriver.remote.webelement.WebElement (session=\"c2cd87542d8e23ea83e06b3c72398c40\", element=\"26d51c0c-b349-4bfc-8929-9d640e5b62d5\")>,\n",
       " <selenium.webdriver.remote.webelement.WebElement (session=\"c2cd87542d8e23ea83e06b3c72398c40\", element=\"89f95f6f-7b83-43b9-8aab-91549e7d221f\")>,\n",
       " <selenium.webdriver.remote.webelement.WebElement (session=\"c2cd87542d8e23ea83e06b3c72398c40\", element=\"d63d2f38-dc8e-41a3-a3a0-dc5b783218ad\")>,\n",
       " <selenium.webdriver.remote.webelement.WebElement (session=\"c2cd87542d8e23ea83e06b3c72398c40\", element=\"d6949cd2-8363-4b63-83da-ff0c77845516\")>,\n",
       " <selenium.webdriver.remote.webelement.WebElement (session=\"c2cd87542d8e23ea83e06b3c72398c40\", element=\"281987a6-c7f3-4954-8b4d-a3b76a5c7e85\")>,\n",
       " <selenium.webdriver.remote.webelement.WebElement (session=\"c2cd87542d8e23ea83e06b3c72398c40\", element=\"d7847c49-6042-4501-9b62-c45fde3a7f7e\")>,\n",
       " <selenium.webdriver.remote.webelement.WebElement (session=\"c2cd87542d8e23ea83e06b3c72398c40\", element=\"588326d7-c815-4d60-803a-8f1895863602\")>,\n",
       " <selenium.webdriver.remote.webelement.WebElement (session=\"c2cd87542d8e23ea83e06b3c72398c40\", element=\"c0debbc4-7bb9-40c7-9bb0-840e672bfc83\")>,\n",
       " <selenium.webdriver.remote.webelement.WebElement (session=\"c2cd87542d8e23ea83e06b3c72398c40\", element=\"64cd9462-1b49-43e0-bf4c-fb766ab511af\")>,\n",
       " <selenium.webdriver.remote.webelement.WebElement (session=\"c2cd87542d8e23ea83e06b3c72398c40\", element=\"39b5b61f-f71c-4115-8d3c-8aed76f71016\")>,\n",
       " <selenium.webdriver.remote.webelement.WebElement (session=\"c2cd87542d8e23ea83e06b3c72398c40\", element=\"5a53434f-52a7-4820-b39c-978730b05419\")>,\n",
       " <selenium.webdriver.remote.webelement.WebElement (session=\"c2cd87542d8e23ea83e06b3c72398c40\", element=\"18e6d852-ba66-41f3-8d47-a6c380f0e979\")>,\n",
       " <selenium.webdriver.remote.webelement.WebElement (session=\"c2cd87542d8e23ea83e06b3c72398c40\", element=\"fc746ece-22b5-49d1-940e-9bf825d91fa0\")>,\n",
       " <selenium.webdriver.remote.webelement.WebElement (session=\"c2cd87542d8e23ea83e06b3c72398c40\", element=\"e8a9156b-ced4-4a56-8211-6c6f3053acd6\")>,\n",
       " <selenium.webdriver.remote.webelement.WebElement (session=\"c2cd87542d8e23ea83e06b3c72398c40\", element=\"4f97bdf4-9ea4-4397-abcb-4e7c5b943cfe\")>,\n",
       " <selenium.webdriver.remote.webelement.WebElement (session=\"c2cd87542d8e23ea83e06b3c72398c40\", element=\"57579e5d-a5aa-4569-b52b-c47d183b0b47\")>,\n",
       " <selenium.webdriver.remote.webelement.WebElement (session=\"c2cd87542d8e23ea83e06b3c72398c40\", element=\"7fa6b46a-ccba-4017-8909-d946b1a91036\")>,\n",
       " <selenium.webdriver.remote.webelement.WebElement (session=\"c2cd87542d8e23ea83e06b3c72398c40\", element=\"b058a5f2-bc97-4099-9f09-6a1f2d777e7e\")>,\n",
       " <selenium.webdriver.remote.webelement.WebElement (session=\"c2cd87542d8e23ea83e06b3c72398c40\", element=\"02a26e43-e8e6-4f83-800e-4716325b6eb9\")>,\n",
       " <selenium.webdriver.remote.webelement.WebElement (session=\"c2cd87542d8e23ea83e06b3c72398c40\", element=\"897b761b-0a79-4535-8552-36b01be79adf\")>,\n",
       " <selenium.webdriver.remote.webelement.WebElement (session=\"c2cd87542d8e23ea83e06b3c72398c40\", element=\"70e637e3-560b-419b-a700-e0f973bca934\")>,\n",
       " <selenium.webdriver.remote.webelement.WebElement (session=\"c2cd87542d8e23ea83e06b3c72398c40\", element=\"f47511e0-d006-4bef-baad-889207870f4b\")>,\n",
       " <selenium.webdriver.remote.webelement.WebElement (session=\"c2cd87542d8e23ea83e06b3c72398c40\", element=\"ec7c096e-98ea-459b-844f-f95b9cbdd65a\")>,\n",
       " <selenium.webdriver.remote.webelement.WebElement (session=\"c2cd87542d8e23ea83e06b3c72398c40\", element=\"469bb402-4bbe-441d-b0f5-c32f98021f05\")>,\n",
       " <selenium.webdriver.remote.webelement.WebElement (session=\"c2cd87542d8e23ea83e06b3c72398c40\", element=\"a33c7ca4-e098-405a-9dd8-671ae76b0255\")>,\n",
       " <selenium.webdriver.remote.webelement.WebElement (session=\"c2cd87542d8e23ea83e06b3c72398c40\", element=\"ca416037-4c1d-4919-b2a7-a93e3b3c01f4\")>]"
      ]
     },
     "execution_count": 24,
     "metadata": {},
     "output_type": "execute_result"
    }
   ],
   "source": [
    "products"
   ]
  },
  {
   "cell_type": "code",
   "execution_count": 11,
   "metadata": {},
   "outputs": [
    {
     "ename": "WebDriverException",
     "evalue": "Message: chrome not reachable\n  (Session info: chrome=78.0.3904.97)\n",
     "output_type": "error",
     "traceback": [
      "\u001b[1;31m---------------------------------------------------------------------------\u001b[0m",
      "\u001b[1;31mWebDriverException\u001b[0m                        Traceback (most recent call last)",
      "\u001b[1;32m<ipython-input-11-92cab26ddd11>\u001b[0m in \u001b[0;36m<module>\u001b[1;34m\u001b[0m\n\u001b[0;32m      3\u001b[0m \u001b[1;33m\u001b[0m\u001b[0m\n\u001b[0;32m      4\u001b[0m \u001b[0mwait_review\u001b[0m \u001b[1;33m=\u001b[0m \u001b[0mWebDriverWait\u001b[0m\u001b[1;33m(\u001b[0m\u001b[0mdriver\u001b[0m\u001b[1;33m,\u001b[0m \u001b[1;36m10\u001b[0m\u001b[1;33m)\u001b[0m\u001b[1;33m\u001b[0m\u001b[1;33m\u001b[0m\u001b[0m\n\u001b[1;32m----> 5\u001b[1;33m \u001b[0mreviews\u001b[0m \u001b[1;33m=\u001b[0m \u001b[0mwait_review\u001b[0m\u001b[1;33m.\u001b[0m\u001b[0muntil\u001b[0m\u001b[1;33m(\u001b[0m\u001b[0mEC\u001b[0m\u001b[1;33m.\u001b[0m\u001b[0mpresence_of_all_elements_located\u001b[0m\u001b[1;33m(\u001b[0m\u001b[1;33m(\u001b[0m\u001b[0mBy\u001b[0m\u001b[1;33m.\u001b[0m\u001b[0mXPATH\u001b[0m\u001b[1;33m,\u001b[0m \u001b[1;34m'//*[@id=\"BVRRContainer\"]/div/div/div/div/ol/li'\u001b[0m\u001b[1;33m)\u001b[0m\u001b[1;33m)\u001b[0m\u001b[1;33m)\u001b[0m\u001b[1;33m\u001b[0m\u001b[1;33m\u001b[0m\u001b[0m\n\u001b[0m\u001b[0;32m      6\u001b[0m \u001b[1;33m\u001b[0m\u001b[0m\n\u001b[0;32m      7\u001b[0m \u001b[1;33m\u001b[0m\u001b[0m\n",
      "\u001b[1;32mD:\\Anaconda\\lib\\site-packages\\selenium\\webdriver\\support\\wait.py\u001b[0m in \u001b[0;36muntil\u001b[1;34m(self, method, message)\u001b[0m\n\u001b[0;32m     69\u001b[0m         \u001b[1;32mwhile\u001b[0m \u001b[1;32mTrue\u001b[0m\u001b[1;33m:\u001b[0m\u001b[1;33m\u001b[0m\u001b[1;33m\u001b[0m\u001b[0m\n\u001b[0;32m     70\u001b[0m             \u001b[1;32mtry\u001b[0m\u001b[1;33m:\u001b[0m\u001b[1;33m\u001b[0m\u001b[1;33m\u001b[0m\u001b[0m\n\u001b[1;32m---> 71\u001b[1;33m                 \u001b[0mvalue\u001b[0m \u001b[1;33m=\u001b[0m \u001b[0mmethod\u001b[0m\u001b[1;33m(\u001b[0m\u001b[0mself\u001b[0m\u001b[1;33m.\u001b[0m\u001b[0m_driver\u001b[0m\u001b[1;33m)\u001b[0m\u001b[1;33m\u001b[0m\u001b[1;33m\u001b[0m\u001b[0m\n\u001b[0m\u001b[0;32m     72\u001b[0m                 \u001b[1;32mif\u001b[0m \u001b[0mvalue\u001b[0m\u001b[1;33m:\u001b[0m\u001b[1;33m\u001b[0m\u001b[1;33m\u001b[0m\u001b[0m\n\u001b[0;32m     73\u001b[0m                     \u001b[1;32mreturn\u001b[0m \u001b[0mvalue\u001b[0m\u001b[1;33m\u001b[0m\u001b[1;33m\u001b[0m\u001b[0m\n",
      "\u001b[1;32mD:\\Anaconda\\lib\\site-packages\\selenium\\webdriver\\support\\expected_conditions.py\u001b[0m in \u001b[0;36m__call__\u001b[1;34m(self, driver)\u001b[0m\n\u001b[0;32m    159\u001b[0m \u001b[1;33m\u001b[0m\u001b[0m\n\u001b[0;32m    160\u001b[0m     \u001b[1;32mdef\u001b[0m \u001b[0m__call__\u001b[0m\u001b[1;33m(\u001b[0m\u001b[0mself\u001b[0m\u001b[1;33m,\u001b[0m \u001b[0mdriver\u001b[0m\u001b[1;33m)\u001b[0m\u001b[1;33m:\u001b[0m\u001b[1;33m\u001b[0m\u001b[1;33m\u001b[0m\u001b[0m\n\u001b[1;32m--> 161\u001b[1;33m         \u001b[1;32mreturn\u001b[0m \u001b[0m_find_elements\u001b[0m\u001b[1;33m(\u001b[0m\u001b[0mdriver\u001b[0m\u001b[1;33m,\u001b[0m \u001b[0mself\u001b[0m\u001b[1;33m.\u001b[0m\u001b[0mlocator\u001b[0m\u001b[1;33m)\u001b[0m\u001b[1;33m\u001b[0m\u001b[1;33m\u001b[0m\u001b[0m\n\u001b[0m\u001b[0;32m    162\u001b[0m \u001b[1;33m\u001b[0m\u001b[0m\n\u001b[0;32m    163\u001b[0m \u001b[1;33m\u001b[0m\u001b[0m\n",
      "\u001b[1;32mD:\\Anaconda\\lib\\site-packages\\selenium\\webdriver\\support\\expected_conditions.py\u001b[0m in \u001b[0;36m_find_elements\u001b[1;34m(driver, by)\u001b[0m\n\u001b[0;32m    420\u001b[0m         \u001b[1;32mreturn\u001b[0m \u001b[0mdriver\u001b[0m\u001b[1;33m.\u001b[0m\u001b[0mfind_elements\u001b[0m\u001b[1;33m(\u001b[0m\u001b[1;33m*\u001b[0m\u001b[0mby\u001b[0m\u001b[1;33m)\u001b[0m\u001b[1;33m\u001b[0m\u001b[1;33m\u001b[0m\u001b[0m\n\u001b[0;32m    421\u001b[0m     \u001b[1;32mexcept\u001b[0m \u001b[0mWebDriverException\u001b[0m \u001b[1;32mas\u001b[0m \u001b[0me\u001b[0m\u001b[1;33m:\u001b[0m\u001b[1;33m\u001b[0m\u001b[1;33m\u001b[0m\u001b[0m\n\u001b[1;32m--> 422\u001b[1;33m         \u001b[1;32mraise\u001b[0m \u001b[0me\u001b[0m\u001b[1;33m\u001b[0m\u001b[1;33m\u001b[0m\u001b[0m\n\u001b[0m",
      "\u001b[1;32mD:\\Anaconda\\lib\\site-packages\\selenium\\webdriver\\support\\expected_conditions.py\u001b[0m in \u001b[0;36m_find_elements\u001b[1;34m(driver, by)\u001b[0m\n\u001b[0;32m    418\u001b[0m \u001b[1;32mdef\u001b[0m \u001b[0m_find_elements\u001b[0m\u001b[1;33m(\u001b[0m\u001b[0mdriver\u001b[0m\u001b[1;33m,\u001b[0m \u001b[0mby\u001b[0m\u001b[1;33m)\u001b[0m\u001b[1;33m:\u001b[0m\u001b[1;33m\u001b[0m\u001b[1;33m\u001b[0m\u001b[0m\n\u001b[0;32m    419\u001b[0m     \u001b[1;32mtry\u001b[0m\u001b[1;33m:\u001b[0m\u001b[1;33m\u001b[0m\u001b[1;33m\u001b[0m\u001b[0m\n\u001b[1;32m--> 420\u001b[1;33m         \u001b[1;32mreturn\u001b[0m \u001b[0mdriver\u001b[0m\u001b[1;33m.\u001b[0m\u001b[0mfind_elements\u001b[0m\u001b[1;33m(\u001b[0m\u001b[1;33m*\u001b[0m\u001b[0mby\u001b[0m\u001b[1;33m)\u001b[0m\u001b[1;33m\u001b[0m\u001b[1;33m\u001b[0m\u001b[0m\n\u001b[0m\u001b[0;32m    421\u001b[0m     \u001b[1;32mexcept\u001b[0m \u001b[0mWebDriverException\u001b[0m \u001b[1;32mas\u001b[0m \u001b[0me\u001b[0m\u001b[1;33m:\u001b[0m\u001b[1;33m\u001b[0m\u001b[1;33m\u001b[0m\u001b[0m\n\u001b[0;32m    422\u001b[0m         \u001b[1;32mraise\u001b[0m \u001b[0me\u001b[0m\u001b[1;33m\u001b[0m\u001b[1;33m\u001b[0m\u001b[0m\n",
      "\u001b[1;32mD:\\Anaconda\\lib\\site-packages\\selenium\\webdriver\\remote\\webdriver.py\u001b[0m in \u001b[0;36mfind_elements\u001b[1;34m(self, by, value)\u001b[0m\n\u001b[0;32m   1005\u001b[0m         return self.execute(Command.FIND_ELEMENTS, {\n\u001b[0;32m   1006\u001b[0m             \u001b[1;34m'using'\u001b[0m\u001b[1;33m:\u001b[0m \u001b[0mby\u001b[0m\u001b[1;33m,\u001b[0m\u001b[1;33m\u001b[0m\u001b[1;33m\u001b[0m\u001b[0m\n\u001b[1;32m-> 1007\u001b[1;33m             'value': value})['value'] or []\n\u001b[0m\u001b[0;32m   1008\u001b[0m \u001b[1;33m\u001b[0m\u001b[0m\n\u001b[0;32m   1009\u001b[0m     \u001b[1;33m@\u001b[0m\u001b[0mproperty\u001b[0m\u001b[1;33m\u001b[0m\u001b[1;33m\u001b[0m\u001b[0m\n",
      "\u001b[1;32mD:\\Anaconda\\lib\\site-packages\\selenium\\webdriver\\remote\\webdriver.py\u001b[0m in \u001b[0;36mexecute\u001b[1;34m(self, driver_command, params)\u001b[0m\n\u001b[0;32m    319\u001b[0m         \u001b[0mresponse\u001b[0m \u001b[1;33m=\u001b[0m \u001b[0mself\u001b[0m\u001b[1;33m.\u001b[0m\u001b[0mcommand_executor\u001b[0m\u001b[1;33m.\u001b[0m\u001b[0mexecute\u001b[0m\u001b[1;33m(\u001b[0m\u001b[0mdriver_command\u001b[0m\u001b[1;33m,\u001b[0m \u001b[0mparams\u001b[0m\u001b[1;33m)\u001b[0m\u001b[1;33m\u001b[0m\u001b[1;33m\u001b[0m\u001b[0m\n\u001b[0;32m    320\u001b[0m         \u001b[1;32mif\u001b[0m \u001b[0mresponse\u001b[0m\u001b[1;33m:\u001b[0m\u001b[1;33m\u001b[0m\u001b[1;33m\u001b[0m\u001b[0m\n\u001b[1;32m--> 321\u001b[1;33m             \u001b[0mself\u001b[0m\u001b[1;33m.\u001b[0m\u001b[0merror_handler\u001b[0m\u001b[1;33m.\u001b[0m\u001b[0mcheck_response\u001b[0m\u001b[1;33m(\u001b[0m\u001b[0mresponse\u001b[0m\u001b[1;33m)\u001b[0m\u001b[1;33m\u001b[0m\u001b[1;33m\u001b[0m\u001b[0m\n\u001b[0m\u001b[0;32m    322\u001b[0m             response['value'] = self._unwrap_value(\n\u001b[0;32m    323\u001b[0m                 response.get('value', None))\n",
      "\u001b[1;32mD:\\Anaconda\\lib\\site-packages\\selenium\\webdriver\\remote\\errorhandler.py\u001b[0m in \u001b[0;36mcheck_response\u001b[1;34m(self, response)\u001b[0m\n\u001b[0;32m    240\u001b[0m                 \u001b[0malert_text\u001b[0m \u001b[1;33m=\u001b[0m \u001b[0mvalue\u001b[0m\u001b[1;33m[\u001b[0m\u001b[1;34m'alert'\u001b[0m\u001b[1;33m]\u001b[0m\u001b[1;33m.\u001b[0m\u001b[0mget\u001b[0m\u001b[1;33m(\u001b[0m\u001b[1;34m'text'\u001b[0m\u001b[1;33m)\u001b[0m\u001b[1;33m\u001b[0m\u001b[1;33m\u001b[0m\u001b[0m\n\u001b[0;32m    241\u001b[0m             \u001b[1;32mraise\u001b[0m \u001b[0mexception_class\u001b[0m\u001b[1;33m(\u001b[0m\u001b[0mmessage\u001b[0m\u001b[1;33m,\u001b[0m \u001b[0mscreen\u001b[0m\u001b[1;33m,\u001b[0m \u001b[0mstacktrace\u001b[0m\u001b[1;33m,\u001b[0m \u001b[0malert_text\u001b[0m\u001b[1;33m)\u001b[0m\u001b[1;33m\u001b[0m\u001b[1;33m\u001b[0m\u001b[0m\n\u001b[1;32m--> 242\u001b[1;33m         \u001b[1;32mraise\u001b[0m \u001b[0mexception_class\u001b[0m\u001b[1;33m(\u001b[0m\u001b[0mmessage\u001b[0m\u001b[1;33m,\u001b[0m \u001b[0mscreen\u001b[0m\u001b[1;33m,\u001b[0m \u001b[0mstacktrace\u001b[0m\u001b[1;33m)\u001b[0m\u001b[1;33m\u001b[0m\u001b[1;33m\u001b[0m\u001b[0m\n\u001b[0m\u001b[0;32m    243\u001b[0m \u001b[1;33m\u001b[0m\u001b[0m\n\u001b[0;32m    244\u001b[0m     \u001b[1;32mdef\u001b[0m \u001b[0m_value_or_default\u001b[0m\u001b[1;33m(\u001b[0m\u001b[0mself\u001b[0m\u001b[1;33m,\u001b[0m \u001b[0mobj\u001b[0m\u001b[1;33m,\u001b[0m \u001b[0mkey\u001b[0m\u001b[1;33m,\u001b[0m \u001b[0mdefault\u001b[0m\u001b[1;33m)\u001b[0m\u001b[1;33m:\u001b[0m\u001b[1;33m\u001b[0m\u001b[1;33m\u001b[0m\u001b[0m\n",
      "\u001b[1;31mWebDriverException\u001b[0m: Message: chrome not reachable\n  (Session info: chrome=78.0.3904.97)\n"
     ]
    }
   ],
   "source": [
    "driver = webdriver.Chrome()\n",
    "driver.get(\"https://www.rei.com/product/736947/advanced-elements-advancedframe-convertible-tandem-inflatable-kayak\")\n",
    "\n",
    "wait_review = WebDriverWait(driver, 10)\n",
    "reviews = wait_review.until(EC.presence_of_all_elements_located((By.XPATH, '//*[@id=\"BVRRContainer\"]/div/div/div/div/ol/li')))\n",
    "\n",
    "\n",
    "name = driver.find_element_by_xpath('//div[@class=\"product-title\"]').text\n",
    "total_reviews = driver.find_element_by_xpath('//*[@id=\"bv-rating-summary\"]/div/div/div[3]/button').text\n",
    "rating = driver.find_element_by_xpath('//*[@id=\"bv-rating-summary\"]/div/div/div[2]/button').text\n",
    "price = driver.find_element_by_xpath('//*[@id=\"js-product-information-price\"]/div/span/span/span').text\n",
    "\n",
    "tech_specs = driver.find_element_by_xpath('//*[@id=\"product-wrapper\"]/div[9]/div[1]/div[2]/div/table/tbody')"
   ]
  },
  {
   "cell_type": "code",
   "execution_count": 56,
   "metadata": {},
   "outputs": [
    {
     "data": {
      "text/plain": [
       "[<selenium.webdriver.remote.webelement.WebElement (session=\"6a5f1518f1f9718d5000ee5c42901df5\", element=\"71a92d2d-df69-4bd2-9f1c-c685c68df73c\")>,\n",
       " <selenium.webdriver.remote.webelement.WebElement (session=\"6a5f1518f1f9718d5000ee5c42901df5\", element=\"82dcf954-7a90-405b-a6e4-0f11247c6a92\")>,\n",
       " <selenium.webdriver.remote.webelement.WebElement (session=\"6a5f1518f1f9718d5000ee5c42901df5\", element=\"acdff354-26c2-47d9-92d5-268df2f7b635\")>,\n",
       " <selenium.webdriver.remote.webelement.WebElement (session=\"6a5f1518f1f9718d5000ee5c42901df5\", element=\"17e54e6a-b997-4e05-8cc5-7ecc5982854b\")>,\n",
       " <selenium.webdriver.remote.webelement.WebElement (session=\"6a5f1518f1f9718d5000ee5c42901df5\", element=\"1135d8b2-11e7-4b0b-8c02-71fe7eb2f370\")>,\n",
       " <selenium.webdriver.remote.webelement.WebElement (session=\"6a5f1518f1f9718d5000ee5c42901df5\", element=\"791834e2-d304-4e97-abfb-4e17e354ea93\")>,\n",
       " <selenium.webdriver.remote.webelement.WebElement (session=\"6a5f1518f1f9718d5000ee5c42901df5\", element=\"ca26022b-9d7c-40eb-89fa-daa66e42670b\")>,\n",
       " <selenium.webdriver.remote.webelement.WebElement (session=\"6a5f1518f1f9718d5000ee5c42901df5\", element=\"17f4a032-0343-4452-9b84-2871fd2bd2f9\")>]"
      ]
     },
     "execution_count": 56,
     "metadata": {},
     "output_type": "execute_result"
    }
   ],
   "source": [
    "reviews"
   ]
  },
  {
   "cell_type": "code",
   "execution_count": null,
   "metadata": {},
   "outputs": [],
   "source": []
  },
  {
   "cell_type": "code",
   "execution_count": 25,
   "metadata": {},
   "outputs": [],
   "source": [
    "spec_names = tech_specs.find_elements_by_tag_name('th')\n",
    "spec_values = tech_specs.find_elements_by_tag_name('td')"
   ]
  },
  {
   "cell_type": "code",
   "execution_count": 26,
   "metadata": {},
   "outputs": [],
   "source": [
    "test = {}\n",
    "c = iter(spec_values)\n",
    "for name in spec_names:\n",
    "    test[name.text] = (next(c).text)"
   ]
  },
  {
   "cell_type": "code",
   "execution_count": 27,
   "metadata": {},
   "outputs": [
    {
     "data": {
      "text/plain": [
       "dict_items([('Best Use', 'Flatwater Kayaking'), ('Material(s)', 'PVC-coated polyester/aluminum'), ('Length', '15 feet'), ('Width', '32 inches'), ('Depth', 'Unavailable'), ('Weight', '52 pounds'), ('Cockpit Size', 'Unavailable'), ('Seat Type', 'Padded / Foam'), ('Number of Paddlers', '2-person'), ('Weight Capacity (lbs)', '550 pounds'), ('Tracking System', 'Tracking Fin'), ('Packed Dimensions', '35 x 21 x 12 inches')])"
      ]
     },
     "execution_count": 27,
     "metadata": {},
     "output_type": "execute_result"
    }
   ],
   "source": [
    "test.items()"
   ]
  },
  {
   "cell_type": "code",
   "execution_count": 7,
   "metadata": {},
   "outputs": [],
   "source": [
    "total_reviews = re.findall(\"[0-9]\", total_reviews)[0]\n",
    "\n",
    "price = float(re.sub('[$,/,]', '', price))\n",
    "\n",
    "page_dict = {'name':name, 'total_reviews':total_reviews, 'rating': rating, 'price': price}"
   ]
  },
  {
   "cell_type": "code",
   "execution_count": 8,
   "metadata": {},
   "outputs": [
    {
     "name": "stdout",
     "output_type": "stream",
     "text": [
      "2\n"
     ]
    },
    {
     "data": {
      "text/plain": [
       "dict_items([('name', <selenium.webdriver.remote.webelement.WebElement (session=\"a48cd7c2431903c79b0b304cf53b6a94\", element=\"a037d01d-8b70-4d92-ad16-46d9477fc47c\")>), ('total_reviews', '2'), ('rating', '4.5'), ('price', 2499.0)])"
      ]
     },
     "execution_count": 8,
     "metadata": {},
     "output_type": "execute_result"
    }
   ],
   "source": [
    "print(total_reviews)\n",
    "page_dict.items()"
   ]
  }
 ],
 "metadata": {
  "kernelspec": {
   "display_name": "Python 3",
   "language": "python",
   "name": "python3"
  },
  "language_info": {
   "codemirror_mode": {
    "name": "ipython",
    "version": 3
   },
   "file_extension": ".py",
   "mimetype": "text/x-python",
   "name": "python",
   "nbconvert_exporter": "python",
   "pygments_lexer": "ipython3",
   "version": "3.7.3"
  }
 },
 "nbformat": 4,
 "nbformat_minor": 2
}
