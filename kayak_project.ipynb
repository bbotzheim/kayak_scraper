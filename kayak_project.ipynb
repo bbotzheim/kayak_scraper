{
 "cells": [
  {
   "cell_type": "code",
   "execution_count": 120,
   "metadata": {},
   "outputs": [
    {
     "data": {
      "text/plain": [
       "'C:\\\\Users\\\\bdbot\\\\Documents'"
      ]
     },
     "execution_count": 120,
     "metadata": {},
     "output_type": "execute_result"
    }
   ],
   "source": []
  },
  {
   "cell_type": "code",
   "execution_count": 112,
   "metadata": {},
   "outputs": [],
   "source": [
    "from selenium import webdriver\n",
    "from selenium.webdriver.common.by import By\n",
    "from selenium.webdriver.support.ui import WebDriverWait\n",
    "from selenium.webdriver.support import expected_conditions as EC\n",
    "import csv\n",
    "import re\n",
    "import time"
   ]
  },
  {
   "cell_type": "code",
   "execution_count": 177,
   "metadata": {},
   "outputs": [],
   "source": [
    "driver = webdriver.Chrome()\n",
    "driver.get(\"https://www.rei.com/search?q=kayak\")\n",
    "\n",
    "all_results_button = driver.find_element_by_xpath('//*[@id=\"app-main\"]/div/div/div[1]/div/div[2]/div[2]/div[2]/div/ul/li[last()]')\n",
    "all_results_button.click()"
   ]
  },
  {
   "cell_type": "code",
   "execution_count": 178,
   "metadata": {},
   "outputs": [],
   "source": [
    "wait_products = WebDriverWait(driver, 10)\n",
    "products = wait_products.until(EC.presence_of_all_elements_located((By.XPATH, '//*[@id=\"search-results\"]/ul/li')))\n",
    "#product_buttons = wait_products.until(EC.presence_of_all_elements_located((By.XPATH, '//div[@class=\"_2lEboPUK7PM_Cr8Y\"]')))\n",
    "products_csv = open('products.csv', 'w', encoding='utf-8', newline='')\n",
    "#specs_csv = open('tech_specs.csv', 'w', encoding='utf-8', newline='')\n",
    "reviews_csv = open('reviews.csv', 'w', encoding='utf-8', newline='')\n",
    "product_writer = csv.writer(products_csv)\n",
    "reviews_writer = csv.writer(reviews_csv)"
   ]
  },
  {
   "cell_type": "code",
   "execution_count": 181,
   "metadata": {},
   "outputs": [
    {
     "name": "stdout",
     "output_type": "stream",
     "text": [
      "Begin scraping product 1\n",
      "Finished scraping product 1\n",
      "Begin scraping product 2\n",
      "Finished scraping product 2\n",
      "Begin scraping product 3\n",
      "Finished scraping product 3\n",
      "Begin scraping product 4\n",
      "Finished scraping product 4\n",
      "Begin scraping product 5\n",
      "Finished scraping product 5\n",
      "Begin scraping product 6\n",
      "Finished scraping product 6\n",
      "Begin scraping product 7\n",
      "Finished scraping product 7\n",
      "Begin scraping product 8\n",
      "Finished scraping product 8\n",
      "Begin scraping product 9\n",
      "Finished scraping product 9\n",
      "Begin scraping product 10\n",
      "Finished scraping product 10\n",
      "Begin scraping product 11\n",
      "Message: \n",
      "\n",
      "Unscraped REI Outlet page?\n",
      "Begin scraping product 12\n",
      "Finished scraping product 12\n",
      "Begin scraping product 13\n",
      "Finished scraping product 13\n",
      "Begin scraping product 14\n",
      "Finished scraping product 14\n",
      "Begin scraping product 15\n",
      "Finished scraping product 15\n",
      "Begin scraping product 16\n",
      "Finished scraping product 16\n",
      "Begin scraping product 17\n",
      "Finished scraping product 17\n",
      "Begin scraping product 18\n",
      "Finished scraping product 18\n",
      "Begin scraping product 19\n",
      "Finished scraping product 19\n",
      "Begin scraping product 20\n",
      "Finished scraping product 20\n",
      "Begin scraping product 21\n",
      "Finished scraping product 21\n",
      "Begin scraping product 22\n",
      "Finished scraping product 22\n",
      "Begin scraping product 23\n",
      "Finished scraping product 23\n",
      "Begin scraping product 24\n",
      "Finished scraping product 24\n",
      "Begin scraping product 25\n",
      "Finished scraping product 25\n",
      "Begin scraping product 26\n",
      "Finished scraping product 26\n",
      "Begin scraping product 27\n",
      "Finished scraping product 27\n",
      "Begin scraping product 28\n",
      "Finished scraping product 28\n",
      "Begin scraping product 29\n",
      "Finished scraping product 29\n",
      "Begin scraping product 30\n",
      "Finished scraping product 30\n",
      "Begin scraping product 31\n",
      "Finished scraping product 31\n",
      "Begin scraping product 32\n",
      "Finished scraping product 32\n",
      "Begin scraping product 33\n",
      "Finished scraping product 33\n",
      "Begin scraping product 34\n",
      "Finished scraping product 34\n",
      "Begin scraping product 35\n",
      "Finished scraping product 35\n",
      "Begin scraping product 36\n",
      "Finished scraping product 36\n",
      "Begin scraping product 37\n",
      "Finished scraping product 37\n",
      "Begin scraping product 38\n",
      "Finished scraping product 38\n",
      "Begin scraping product 39\n",
      "Finished scraping product 39\n",
      "Begin scraping product 40\n",
      "Finished scraping product 40\n",
      "Begin scraping product 41\n",
      "Finished scraping product 41\n",
      "Begin scraping product 42\n",
      "Finished scraping product 42\n",
      "Begin scraping product 43\n",
      "Finished scraping product 43\n",
      "Begin scraping product 44\n",
      "Finished scraping product 44\n",
      "Begin scraping product 45\n",
      "Finished scraping product 45\n",
      "Begin scraping product 46\n",
      "Finished scraping product 46\n",
      "Begin scraping product 47\n",
      "Finished scraping product 47\n",
      "Begin scraping product 48\n",
      "Finished scraping product 48\n",
      "Begin scraping product 49\n",
      "Finished scraping product 49\n",
      "Begin scraping product 50\n",
      "Finished scraping product 50\n",
      "Begin scraping product 51\n",
      "Finished scraping product 51\n",
      "Begin scraping product 52\n",
      "Finished scraping product 52\n",
      "Begin scraping product 53\n",
      "Finished scraping product 53\n",
      "Begin scraping product 54\n",
      "Finished scraping product 54\n",
      "Begin scraping product 55\n",
      "Finished scraping product 55\n",
      "Begin scraping product 56\n",
      "Finished scraping product 56\n",
      "Begin scraping product 57\n",
      "Finished scraping product 57\n",
      "Begin scraping product 58\n",
      "Finished scraping product 58\n",
      "Begin scraping product 59\n",
      "Finished scraping product 59\n",
      "Begin scraping product 60\n",
      "Finished scraping product 60\n",
      "Begin scraping product 61\n",
      "Finished scraping product 61\n",
      "Begin scraping product 62\n",
      "Finished scraping product 62\n",
      "Begin scraping product 63\n",
      "Finished scraping product 63\n",
      "Begin scraping product 64\n",
      "Finished scraping product 64\n",
      "Begin scraping product 65\n",
      "Finished scraping product 65\n",
      "Begin scraping product 66\n",
      "Finished scraping product 66\n",
      "Begin scraping product 67\n",
      "Message: \n",
      "\n",
      "Unscraped REI Outlet page?\n",
      "Begin scraping product 68\n",
      "Message: \n",
      "\n",
      "Unscraped REI Outlet page?\n",
      "Begin scraping product 69\n",
      "Message: \n",
      "\n",
      "Unscraped REI Outlet page?\n",
      "Begin scraping product 70\n",
      "Message: \n",
      "\n",
      "Unscraped REI Outlet page?\n",
      "Begin scraping product 71\n",
      "Finished scraping product 71\n"
     ]
    }
   ],
   "source": [
    "for i in range(1,len(products)+1):\n",
    "    button = driver.find_element_by_xpath('//*[@id=\"search-results\"]/ul/li[{x}]/a'.format(x=i))\n",
    "    button.click()\n",
    "    try:\n",
    "        print('Begin scraping product {x}'.format(x = i))\n",
    "\n",
    "        wait_name = WebDriverWait(driver, 10)\n",
    "        name = wait_name.until(EC.presence_of_all_elements_located((By.XPATH,'//div[@class=\"product-title\"]')))[0].text\n",
    "        product_id = driver.find_element_by_xpath('//*[@id=\"product-container\"]/div[2]/div/div[2]/div[3]/div[2]/span/span').text\n",
    "        try:\n",
    "            total_reviews = driver.find_element_by_xpath('//*[@id=\"bv-rating-summary\"]/div/div/div[3]/button').text\n",
    "            total_reviews = \"\".join((re.findall(\"[0-9]\", total_reviews)))\n",
    "            rating = driver.find_element_by_xpath('//*[@id=\"bv-rating-summary\"]/div/div/div[2]/button').text\n",
    "        except:\n",
    "            total_reviews = 0\n",
    "            rating = 0\n",
    "        try:\n",
    "            price = driver.find_element_by_xpath('//*[@id=\"js-product-information-price\"]/div/span/span/span').text\n",
    "        except:\n",
    "            price = driver.find_element_by_xpath('//*[@id=\"js-product-information-price\"]/div/span/div/span/span[1]').text\n",
    "        \n",
    "        price = float(re.sub('[$,/,]', '', price))\n",
    "        product_dict = {'product_id': product_id, 'name':name, 'total_reviews':total_reviews, 'rating': rating, 'price': price}\n",
    "\n",
    "        tech_specs = driver.find_element_by_xpath('//*[@id=\"product-wrapper\"]/div[9]/div[1]/div[2]/div/table/tbody')\n",
    "        spec_names = tech_specs.find_elements_by_tag_name('th')\n",
    "        spec_values = tech_specs.find_elements_by_tag_name('td')\n",
    "\n",
    "        temp = {}\n",
    "        c = iter(spec_values)\n",
    "        for name in spec_names:\n",
    "            temp[name.text] = (next(c).text)\n",
    "\n",
    "        product_dict['Best Use'] = temp.get('Best Use', None)\n",
    "        product_dict['Material(s)'] = temp.get('Material(s)', None)\n",
    "        product_dict['Length'] = temp.get('Length', None)\n",
    "        product_dict['Width'] = temp.get('Width', None)\n",
    "        product_dict['Depth'] = temp.get('Depth', None)\n",
    "        product_dict['Weight'] = temp.get('Weight', None)\n",
    "        product_dict['Cockpit Size'] = temp.get('Cockpit Size', None)\n",
    "        product_dict['Seat Type'] = temp.get('Seat Type', None)\n",
    "        product_dict['Number of Paddlers'] = temp.get('Number of Paddlers', None)\n",
    "        product_dict['Hatch Capacity'] = temp.get('Hatch Capacity', None)\n",
    "        product_dict['Weight Capacity (lbs)'] = temp.get('Weight Capacity (lbs)', None)\n",
    "        product_dict['Tracking System'] = temp.get('Tracking System', None)\n",
    "        product_dict['Foldable'] = temp.get('Foldable', None)\n",
    "        product_dict['Packed Dimensions'] = temp.get('Packed Dimensions', None)\n",
    "        product_dict['Sustainability'] = temp.get('Sustainability', None)\n",
    "\n",
    "        product_writer.writerow(product_dict.values())\n",
    "        \n",
    "        reviews_dict = {'Product ID':product_id}\n",
    "        \n",
    "        if int(total_reviews) >= 1:\n",
    "            try:\n",
    "                load_more = driver.find_element_by_xpath('//*[@id=\"BVRRContainer\"]/div/div/div/div/div[3]/div/button/span')\n",
    "                load_more_exists = True\n",
    "            except:\n",
    "                load_more_exists = False\n",
    "            while load_more_exists:\n",
    "                try:\n",
    "                    load_more.click()\n",
    "                except:\n",
    "                    load_more_exists = False\n",
    "            \n",
    "            reviews = driver.find_elements_by_xpath('//*[@id=\"BVRRContainer\"]/div/div/div/div/ol/li')\n",
    "            index = 1\n",
    "            for review in reviews:\n",
    "                body = review.find_element_by_class_name('bv-content-summary-body-text').text\n",
    "                reviews_dict['review {x}'.format(x = index)] = body\n",
    "                index += 1\n",
    "        else:\n",
    "            reviews_dict['Reviews'] = 'No reviews'\n",
    "        \n",
    "        reviews_writer.writerow(reviews_dict.values())\n",
    "\n",
    "        print('Finished scraping product {x}'.format(x = i))\n",
    "        time.sleep(5)\n",
    "        driver.back()\n",
    "        time.sleep(2)\n",
    "    except Exception as e:\n",
    "        print(e)\n",
    "        print(\"Unscraped REI Outlet page?\")\n",
    "        time.sleep(3)\n",
    "        driver.back()\n",
    "        time.sleep(1)"
   ]
  },
  {
   "cell_type": "code",
   "execution_count": 182,
   "metadata": {},
   "outputs": [],
   "source": [
    "products_csv.close()\n",
    "reviews_csv.close()"
   ]
  },
  {
   "cell_type": "code",
   "execution_count": 180,
   "metadata": {},
   "outputs": [
    {
     "data": {
      "text/plain": [
       "71"
      ]
     },
     "execution_count": 180,
     "metadata": {},
     "output_type": "execute_result"
    }
   ],
   "source": [
    "len(products)"
   ]
  },
  {
   "cell_type": "code",
   "execution_count": null,
   "metadata": {},
   "outputs": [],
   "source": []
  },
  {
   "cell_type": "code",
   "execution_count": 183,
   "metadata": {},
   "outputs": [],
   "source": [
    "driver = webdriver.Chrome()\n",
    "driver.get(\"https://www.rei.com/product/133189/pelican-sentinel-sit-on-top-kayak-with-paddle\")"
   ]
  },
  {
   "cell_type": "code",
   "execution_count": null,
   "metadata": {},
   "outputs": [],
   "source": [
    "wait_name = WebDriverWait(driver, 10)\n",
    "name = wait_name.until(EC.presence_of_all_elements_located((By.XPATH,'//div[@class=\"product-title\"]')))[0].text\n",
    "product_id = driver.find_element_by_xpath('//*[@id=\"product-container\"]/div[2]/div/div[2]/div[3]/div[2]/span/span').text\n",
    "total_reviews = driver.find_element_by_xpath('//*[@id=\"bv-rating-summary\"]/div/div/div[3]/button').text\n",
    "rating = driver.find_element_by_xpath('//*[@id=\"bv-rating-summary\"]/div/div/div[2]/button').text\n",
    "price = driver.find_element_by_xpath('//*[@id=\"js-product-information-price\"]/div/span/span/span').text"
   ]
  },
  {
   "cell_type": "code",
   "execution_count": 191,
   "metadata": {},
   "outputs": [],
   "source": [
    "reviews_list = []\n",
    "reviews = driver.find_elements_by_xpath('//*[@id=\"BVRRContainer\"]/div/div/div/div/ol/li')\n",
    "index = 1\n",
    "for review in reviews:\n",
    "    body = review.find_element_by_class_name('bv-content-summary-body-text').text\n",
    "    REPLACE_NO_SPACE = re.compile(\"[.;:!\\'?,\\\"()\\[\\]]\")\n",
    "    REPLACE_WITH_SPACE = re.compile(\"(<br\\s*/><br\\s*/>)|(\\-)|(\\/)\")\n",
    "    body = REPLACE_NO_SPACE.sub(\"\", body.lower())\n",
    "    body = REPLACE_WITH_SPACE.sub(\" \", body)\n",
    "    reviews_list.append(body)\n",
    "    index += 1\n"
   ]
  },
  {
   "cell_type": "code",
   "execution_count": 192,
   "metadata": {},
   "outputs": [
    {
     "data": {
      "text/plain": [
       "['2nd kayak purchase from rei upgraded a lifetime lotus to the pelican sentinel for my 11 yr old tracks nicely glides well easy in out lots of storage behind seat we are lake perimeter paddlers on quiet lakes for safety no rough water rivers oceans etc my daughter stayed dry inside boat and liked the seat backrest strictly leisurely paddlers perfect for the way we kayak only complaint is the paddle that comes with is flat sided and has small driprings we prefer a bit of a curved paddle head and will use a different paddle doesnt break our budget and is a great boat',\n",
       " 'i’m new to kayaking and wanted to get a boat my daughter age 7 and i can have fun with tried it out two weeks ago and i’m hooked we had a blast paddling around and i was able to get out further than i planned because i felt comfortable you do get a little wet so prepare for the weather conditions the boat is easy to manage in the water and out but after my trip i bought a cart i’m 5’3” 135lbs and was able after trial and error to get it on and off of my crosstrek and carry it over my head down the path to the shore the handle is misleading it’s really a dent to place your hand on each side the storage space is adequate i purchased a dry bag & carabiner a different paddle leash and emergency flip kit i can’t wait to get it into the water again',\n",
       " 'i loved this kayak for the price and i got it for an additional 20% off i was also looking for one that was rated to 300lbs and an open one sit on top for my 68 dad who was paranoid about sitting in a cockpit and not being able to get out incase it flipped so we purchased this pelican sentinel it did float and was great but for my father who is taller it sat way too high for him to balance in and as soon as he sat on it i was worried if he would look or twist his torso one way or another he found end up in the water we ended up returning this kayak and going with the perception sound 95 model because it sat lower had the cockpit that he wasnt thrilled about and he was able to balance much better pros to this model however are that it has a paddle with it',\n",
       " 'i now live right on the banks of the sassafras river of the upper cesapeake bay kayaking is universal here i needed to add another kayak for family when they visit this was ideal for my daughter’s use so i got it for her birthday last year i got another for my grandaughter’s 7th we are all in our own boats now',\n",
       " 'i like this boat for the price it is easy to paddle and light enough to carry alone but i wanted something to use on rivers and lakes and this isnt it the scupper holes for self bailing are so small that once you go through a wave the boat stays full of water for at least a full minute during that time the boat is to the gunnels in the water and has no stability even small class ii waves fill the boat and make it unpleasant for a cheap boat on a flat lake this is fine for a toy']"
      ]
     },
     "execution_count": 192,
     "metadata": {},
     "output_type": "execute_result"
    }
   ],
   "source": [
    "reviews_list"
   ]
  },
  {
   "cell_type": "code",
   "execution_count": 193,
   "metadata": {},
   "outputs": [],
   "source": [
    "from sklearn.feature_extraction.text import CountVectorizer\n",
    "\n",
    "cv = CountVectorizer(binary=True)\n",
    "cv.fit(reviews_list)\n",
    "X = cv.transform(reviews_list)"
   ]
  },
  {
   "cell_type": "code",
   "execution_count": 194,
   "metadata": {},
   "outputs": [
    {
     "data": {
      "text/plain": [
       "<5x275 sparse matrix of type '<class 'numpy.int64'>'\n",
       "\twith 378 stored elements in Compressed Sparse Row format>"
      ]
     },
     "execution_count": 194,
     "metadata": {},
     "output_type": "execute_result"
    }
   ],
   "source": [
    "from sklearn.linear_model import LogisticRegression\n",
    "from sklearn.metrics import accuracy_score\n",
    "from sklearn.model_selection import train_test_split\n",
    "\n",
    "target = [1 if i < 12500 else 0 for i in range(25000)]\n",
    "\n",
    "X_train, X_val, y_train, y_val = train_test_split(X, target, train_size = 0.75)\n",
    "\n",
    "for c in [0.01, 0.05, 0.25, 0.5, 1]:\n",
    "    \n",
    "    lr = LogisticRegression(C=c)\n",
    "    lr.fit(X_train, y_train)\n",
    "    print (\"Accuracy for C=%s: %s\" \n",
    "           % (c, accuracy_score(y_val, lr.predict(X_val))))\n",
    "    \n",
    "#     Accuracy for C=0.01: 0.87472\n",
    "#     Accuracy for C=0.05: 0.88368\n",
    "#     Accuracy for C=0.25: 0.88016\n",
    "#     Accuracy for C=0.5: 0.87808\n",
    "#     Accuracy for C=1: 0.87648"
   ]
  },
  {
   "cell_type": "code",
   "execution_count": null,
   "metadata": {},
   "outputs": [],
   "source": [
    "final_model = LogisticRegression(C=0.05)\n",
    "final_model.fit(X, target)\n",
    "print (\"Final Accuracy: %s\" \n",
    "       % accuracy_score(target, final_model.predict(X_test)))\n",
    "# Final Accuracy: 0.88128"
   ]
  },
  {
   "cell_type": "code",
   "execution_count": null,
   "metadata": {},
   "outputs": [],
   "source": [
    "feature_to_coef = {\n",
    "    word: coef for word, coef in zip(\n",
    "        cv.get_feature_names(), final_model.coef_[0]\n",
    "    )\n",
    "}\n",
    "for best_positive in sorted(\n",
    "    feature_to_coef.items(), \n",
    "    key=lambda x: x[1], \n",
    "    reverse=True)[:5]:\n",
    "    print (best_positive)\n",
    "    \n",
    "#     ('excellent', 0.9288812418118644)\n",
    "#     ('perfect', 0.7934641227980576)\n",
    "#     ('great', 0.675040909917553)\n",
    "#     ('amazing', 0.6160398142631545)\n",
    "#     ('superb', 0.6063967799425831)\n",
    "    \n",
    "for best_negative in sorted(\n",
    "    feature_to_coef.items(), \n",
    "    key=lambda x: x[1])[:5]:\n",
    "    print (best_negative)\n",
    "    \n",
    "#     ('worst', -1.367978497228895)\n",
    "#     ('waste', -1.1684451288279047)\n",
    "#     ('awful', -1.0277001734353677)\n",
    "#     ('poorly', -0.8748317895742782)\n",
    "#     ('boring', -0.8587249740682945)"
   ]
  },
  {
   "cell_type": "code",
   "execution_count": 196,
   "metadata": {},
   "outputs": [
    {
     "name": "stderr",
     "output_type": "stream",
     "text": [
      "[nltk_data] Downloading package vader_lexicon to\n",
      "[nltk_data]     C:\\Users\\bdbot\\AppData\\Roaming\\nltk_data...\n",
      "[nltk_data] Downloading package punkt to\n",
      "[nltk_data]     C:\\Users\\bdbot\\AppData\\Roaming\\nltk_data...\n",
      "[nltk_data]   Unzipping tokenizers\\punkt.zip.\n"
     ]
    },
    {
     "data": {
      "text/plain": [
       "True"
      ]
     },
     "execution_count": 196,
     "metadata": {},
     "output_type": "execute_result"
    }
   ],
   "source": [
    "import nltk\n",
    "nltk.download('vader_lexicon')\n",
    "nltk.download('punkt')"
   ]
  }
 ],
 "metadata": {
  "kernelspec": {
   "display_name": "Python 3",
   "language": "python",
   "name": "python3"
  },
  "language_info": {
   "codemirror_mode": {
    "name": "ipython",
    "version": 3
   },
   "file_extension": ".py",
   "mimetype": "text/x-python",
   "name": "python",
   "nbconvert_exporter": "python",
   "pygments_lexer": "ipython3",
   "version": "3.7.3"
  }
 },
 "nbformat": 4,
 "nbformat_minor": 2
}
