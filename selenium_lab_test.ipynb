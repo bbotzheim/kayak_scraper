{
 "cells": [
  {
   "cell_type": "code",
   "execution_count": 1,
   "metadata": {},
   "outputs": [],
   "source": [
    "from selenium import webdriver\n",
    "from selenium.webdriver.common.by import By\n",
    "from selenium.webdriver.support.ui import WebDriverWait\n",
    "from selenium.webdriver.support import expected_conditions as EC\n",
    "import csv\n",
    "import re\n",
    "import time"
   ]
  },
  {
   "cell_type": "code",
   "execution_count": 5,
   "metadata": {},
   "outputs": [],
   "source": [
    "driver = webdriver.Chrome()\n",
    "\n",
    "driver.get(\"https://www.verizonwireless.com/smartphones/samsung-galaxy-s8\")\n",
    "# Click review button to go to the review section\n",
    "review_button = driver.find_element_by_xpath('//span[@class=\"padLeft6 cursorPointer\"]')\n",
    "review_button.click()"
   ]
  },
  {
   "cell_type": "code",
   "execution_count": 7,
   "metadata": {},
   "outputs": [],
   "source": [
    "wait_review = WebDriverWait(driver, 10)\n",
    "reviews = wait_review.until(EC.presence_of_all_elements_located((By.XPATH,\n",
    "                                                                 '//div[@class=\"row border_grayThree onlyTopBorder noSideMargin\"]')))"
   ]
  },
  {
   "cell_type": "code",
   "execution_count": 9,
   "metadata": {},
   "outputs": [
    {
     "data": {
      "text/plain": [
       "\"★★★★★\\n☆☆☆☆☆\\n5 out of\\njrcamp·11 months ago\\nsamsung is always the best\\nGreat phone as always. I got this for my daughter she is 11 and doesn't need anything crazy but I wanted to get her something I knew would be easy to use and would last. This phone has great battery life and an awesome screen\\nYes, I'd recommend this product\\n\\nWas this review helpful?\\nYes (190)\\nNo (27)\\nReport as inappropriate\""
      ]
     },
     "execution_count": 9,
     "metadata": {},
     "output_type": "execute_result"
    }
   ],
   "source": [
    "reviews[0].text"
   ]
  },
  {
   "cell_type": "code",
   "execution_count": 3,
   "metadata": {},
   "outputs": [],
   "source": [
    "csv_file = open('reviews.csv', 'w', encoding='utf-8', newline='')\n",
    "writer = csv.writer(csv_file)"
   ]
  },
  {
   "cell_type": "code",
   "execution_count": 4,
   "metadata": {},
   "outputs": [
    {
     "name": "stdout",
     "output_type": "stream",
     "text": [
      "Scraping Page number 1\n",
      "Scraping Page number 2\n",
      "Scraping Page number 3\n",
      "Scraping Page number 4\n",
      "Scraping Page number 5\n",
      "Message: stale element reference: element is not attached to the page document\n",
      "  (Session info: chrome=78.0.3904.97)\n",
      "\n"
     ]
    }
   ],
   "source": [
    "index = 1\n",
    "while True:\n",
    "\ttry:\n",
    "\t\tprint(\"Scraping Page number \" + str(index))\n",
    "\t\tindex = index + 1\n",
    "\t\t# Find all the reviews on the page\n",
    "\t\twait_review = WebDriverWait(driver, 10)\n",
    "\t\treviews = wait_review.until(EC.presence_of_all_elements_located((By.XPATH,\n",
    "\t\t\t\t\t\t\t\t\t'//div[@class=\"row border_grayThree onlyTopBorder noSideMargin\"]')))\n",
    "\t\tfor review in reviews:\n",
    "\t\t\t# Initialize an empty dictionary for each review\n",
    "\t\t\treview_dict = {}\n",
    "\t\t\t# Use relative xpath to locate the title, text, username, date, rating.\n",
    "\t\t\t# Once you locate the element, you can use 'element.text' to return its string.\n",
    "\t\t\t# To get the attribute instead of the text of each element, use 'element.get_attribute()'\n",
    "\t\t\ttry:\n",
    "\t\t\t\ttitle = review.find_element_by_xpath('.//div[@class=\"NHaasDS75Bd fontSize_12 wrapText\"]').text\n",
    "\t\t\texcept:\n",
    "\t\t\t\tcontinue\n",
    "\n",
    "\t\t\t# OPTIONAL PART 1a\n",
    "\t\t\t# Attempts to click the \"read more\" button to expand the text. This needs to be clicked\n",
    "\t\t\t# a second time otherwise the button click in the next review will collapse the previous\n",
    "\t\t\t# review text (and won't expand the current text).\n",
    "\n",
    "\t\t\t# We also need to scroll to the review element first because the button is not in the current view yet.\n",
    "\t\t\tdriver.execute_script(\"arguments[0].scrollIntoView();\", review)\n",
    "\n",
    "\t\t\tread_more_exists = False\n",
    "\t\t\ttry:\n",
    "\t\t\t\tread_more = review.find_element_by_xpath('.//a[@class=\"border_gray onlyBottomBorder color_000 fontSize_1\"]')\n",
    "\t\t\t\tread_more.click()\n",
    "\t\t\t\tread_more_exists = True\n",
    "\t\t\t\t# Slows down the text expansion so the text can be scraped\n",
    "\t\t\t\ttime.sleep(.5)\n",
    "\t\t\texcept:\n",
    "\t\t\t\tpass\n",
    "\n",
    "\t\t\ttext = review.find_element_by_xpath('.//span[@class=\"pad6 onlyRightPad\"]').text\n",
    "\t\t\tusername = review.find_element_by_xpath('.//span[@class=\"padLeft6 NHaasDS55Rg fontSize_12 pad3 noBottomPad padTop2\"]').text\n",
    "\t\t\tdate_published = review.find_element_by_xpath('.//span[@class=\"NHaasDS55Rg fontSize_12  pad3 noBottomPad padTop2\"]').text\n",
    "\t\t\trating = review.find_element_by_xpath('.//span[@class=\"positionAbsolute top0 left0 overflowHidden color_000\"]').get_attribute('style')\n",
    "\t\t\trating = int(re.findall('\\d+', rating)[0])/20\n",
    "\n",
    "\t\t\t# OPTIONAL PART 1b\n",
    "\t\t\t# Click the read more button if it exists in order to collapse the text for the current review\n",
    "\t\t\tif read_more_exists:\n",
    "\t\t\t\tread_more.click()\n",
    "\n",
    "\t\t\treview_dict['title'] = title\n",
    "\t\t\treview_dict['text'] = text\n",
    "\t\t\treview_dict['username'] = username\n",
    "\t\t\treview_dict['date_published'] = date_published\n",
    "\t\t\treview_dict['rating'] = rating\n",
    "\n",
    "\t\t\twriter.writerow(review_dict.values())\n",
    "\n",
    "\t\t# We need to scroll to the bottom of the page because the button is not in the current view yet.\n",
    "\t\tdriver.execute_script(\"window.scrollTo(0, document.body.scrollHeight);\")\n",
    "\n",
    "\t\t# Locate the next button on the page.\n",
    "\t\twait_button = WebDriverWait(driver, 10)\n",
    "\t\tnext_button = wait_button.until(EC.element_to_be_clickable((By.XPATH,\n",
    "\t\t\t\t\t\t\t\t\t'//li[@class=\"nextClick displayInlineBlock padLeft5 \"]')))\n",
    "\t\tnext_button.click()\n",
    "\texcept Exception as e:\n",
    "\t\tprint(e)\n",
    "\t\tcsv_file.close()\n",
    "\t\tdriver.close()\n",
    "\t\tbreak"
   ]
  }
 ],
 "metadata": {
  "kernelspec": {
   "display_name": "Python 3",
   "language": "python",
   "name": "python3"
  },
  "language_info": {
   "codemirror_mode": {
    "name": "ipython",
    "version": 3
   },
   "file_extension": ".py",
   "mimetype": "text/x-python",
   "name": "python",
   "nbconvert_exporter": "python",
   "pygments_lexer": "ipython3",
   "version": "3.7.3"
  }
 },
 "nbformat": 4,
 "nbformat_minor": 2
}
